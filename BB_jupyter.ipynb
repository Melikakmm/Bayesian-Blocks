{
 "cells": [
  {
   "cell_type": "markdown",
   "id": "12409e5d",
   "metadata": {},
   "source": [
    "# Bayesian Blocks\n",
    "\n",
    "#### author : \n",
    "\n",
    "#### created :"
   ]
  },
  {
   "cell_type": "markdown",
   "id": "bcff3031",
   "metadata": {},
   "source": [
    "#### Table Of Contents\n",
    "1. [Introduction](#1.-Introduction:)\n",
    "\n",
    "2. [Objective](#2.-Objective:)\n",
    "\n",
    "3. [Method](#3.-Method:)\n",
    "\n"
   ]
  },
  {
   "cell_type": "markdown",
   "id": "0f660977",
   "metadata": {},
   "source": [
    "### 1. Introduction:\n",
    "Bayesian Blocks is a time-domain algorithm for detecting localized structures (bursts), revealing pulse shapes, and generally characterizing intensity variations. The input is raw counting data, in any of three forms: time-tagged events(TTE), binned counts, or time-to-spill data. The output is the most probable segmentation of the observation into time intervals during which the amplitude is perceptibly constant, i.e. has no statistically significant variations. The idea is not that the times series of events is deemed to have this discontinuous, piecewise constant form, rather that such an approximate and generic model is often useful. The analysis is based on Bayesian statistics.\n"
   ]
  },
  {
   "cell_type": "markdown",
   "id": "5522034c",
   "metadata": {},
   "source": [
    "### 2. Objective:\n",
    "\n",
    "The method was first used to address the problem of detecting and characterizing local variability in time series and other forms of sequential data in astronomical data. The main objective of this method is to design a histogram that fits to the data well in a way that it distinguishes between observational errors and statistical significance. "
   ]
  },
  {
   "cell_type": "markdown",
   "id": "c9892af6",
   "metadata": {},
   "source": [
    "## 3. Method:\n",
    "\n",
    "______________________________________________________________________________________________\n",
    "\n",
    "\n",
    "\n",
    "\n",
    "\n",
    "\n",
    "### 3.1. Blockwise Model :\n",
    "\n",
    "The range of independent variables(e.g., time) are divided into subintervals(called blocks) which are normally unequal in size. The dependent variables(e.g., intensity) are usually constant within errors in a single block. In more complicated models one might use linear or exponential functions to show the dependency of the variables within blocks, in this paper, however, it is not needed to increase the complexity when the data is well-presented with the constant model. \n",
    "\n",
    "Defining the times ending one block and starting the next as change points, the model of the whole observation interval contains these parameters:\n",
    "\n",
    "\n",
    "$1. N_{cp}:$ The number of change points. \n",
    "\n",
    "\n",
    "$2. t_{k}^{cp}:$ The change-point starting block K (and ending block (k-1))\n",
    "\n",
    "$3. X_{k}:$ The signal amplitude in block K.\n",
    "\n",
    "\n",
    "$ K = 1, 2, 3, ....., N_{cp} + 1$\n",
    "\n",
    "\n",
    "* it is important to mention that the first datum is always considered the first change-point; therefore, it is not a free parameter.\n"
   ]
  },
  {
   "cell_type": "code",
   "execution_count": null,
   "id": "31c06076",
   "metadata": {},
   "outputs": [],
   "source": [
    "install.packages(\"svMisc\")\n",
    "library(svMisc)"
   ]
  },
  {
   "cell_type": "code",
   "execution_count": null,
   "id": "cb5873c3",
   "metadata": {},
   "outputs": [],
   "source": [
    "#Juilia's data:\n",
    "#producing some fake data to see the result for it:\n",
    "data = c(rnorm(1000, mean = 0), rcauchy(1000, 5))\n",
    "data = data[data> -5 & data<10]\n",
    "\n",
    "typeof(data)"
   ]
  },
  {
   "cell_type": "code",
   "execution_count": null,
   "id": "7aa28944",
   "metadata": {},
   "outputs": [],
   "source": [
    "#George's data\n",
    "\n",
    "data <- read.table(\"./Desktop/spectrum.dat\")\n",
    "data = data$V1"
   ]
  },
  {
   "cell_type": "code",
   "execution_count": null,
   "id": "dd58fa45",
   "metadata": {},
   "outputs": [],
   "source": [
    "#defining the fitness function:\n",
    "logf <- function(N_k, T_k){\n",
    "    return(N_k * log(N_k/T_k))\n",
    "}"
   ]
  },
  {
   "cell_type": "code",
   "execution_count": null,
   "id": "cc254e63",
   "metadata": {},
   "outputs": [],
   "source": [
    "#The fitness function = Cash#\n",
    "\n",
    "BB <- function(x) {\n",
    "    \n",
    "    #for atomic data vectors(1D):\n",
    "    if (class(x) == 'numeric') {\n",
    "        x_sorted = sort(x)\n",
    "        x_unique <- c(x_sorted[1])\n",
    "        x_weight <- c(1)\n",
    "        for(i in 2:length(x_sorted)) {\n",
    "            #adding weight if it is repeated:\n",
    "            if(x_sorted[i] == x_sorted[i-1]) {\n",
    "            x_weight[length(x_weight)] <- x_weight[length(x_weight)] + 1\n",
    "            }\n",
    "            else {\n",
    "            x_unique <- c(x_unique, x_sorted[i])\n",
    "            x_weight <- c(x_weight, 1)\n",
    "            }\n",
    "        }    \n",
    "    }#---------------------------------------------------------- \n",
    "           \n",
    "    #For histogram data:        \n",
    "    else if (class(x) == 'histogram') {\n",
    "        eg <- data$breaks\n",
    "        x_unique <- c(eg[1],data$mids,eg[length(eg)])\n",
    "        x_weight <- c(1,data$counts,1)\n",
    "    }        \n",
    "    else {\n",
    "        stop('The data type is not supported! Please input numeric vectors or histograms')\n",
    "        \n",
    "    }#------------------------------------------------------------ \n",
    "    \n",
    "                \n",
    "     #Final number of data points:       \n",
    "    N = length(x_unique) \n",
    "    \n",
    "    \n",
    "\n",
    "    \n",
    "    \n",
    "\n",
    "    \n",
    "    #defining a prior dis function:\n",
    "    logp <- function(prior) {\n",
    "        if(prior == 'uniform') {\n",
    "            return(0)\n",
    "        }\n",
    "        else if(prior == 'gamma') {\n",
    "            #gamma = as.numeric(readline('input the parameter gamma: '))\n",
    "            gamma = 0.01\n",
    "            return(-log(gamma))\n",
    "        }\n",
    "        else if(prior == 'p0') {\n",
    "            #p0 = as.numeric(readline('input the parameter p0: '))\n",
    "            p0 = 0.01\n",
    "            return( log(73.53 * p * N^(-0.478)) - 4)\n",
    "            \n",
    "        }\n",
    "        else {\n",
    "            stop('No Prior Distribution input!')\n",
    "        }\n",
    "        \n",
    "    }\n",
    "        \n",
    "    \n",
    "    \n",
    "    #input one of these:\n",
    "    #1.uniform           2.gamma              3.p0\n",
    "    prior_input = readline('Please input the type of prior distribution: ')\n",
    "        \n",
    "    #calculating the prior:\n",
    "    ncp_prior = logp(prior = prior_input)\n",
    "         \n",
    "        \n",
    "    #array of all possible edges:\n",
    "    edges <- c(x[1], 0.5*(x[1:(length(x)-1)] + x[2:length(x)]), x[length(x)])\n",
    "    \n",
    "   \n",
    "    best = c()\n",
    "    last = c()\n",
    "        \n",
    "        \n",
    "    F <- function(r, k){\n",
    "    return(logf(sum(x_weight[r:k]), edges[k+1] - edges[r]) + ncp_prior)\n",
    "    } \n",
    "        \n",
    "    for (k in 1:N){\n",
    "    A <- c()\n",
    "    for (r in 1:k){\n",
    "        A <- c(A, F(r, k)+ if(r==1) 0 else best[r-1])\n",
    "    }\n",
    "    last <- c(last, which.max(A))\n",
    "    best <- c(best, max(A, na.rm=TRUE))\n",
    "    progress(k, N, progress.bar=TRUE)\n",
    "    if (k == N) message(\"Done!\")\n",
    "    }\n",
    "    \n",
    "               \n",
    "    \n",
    "               \n",
    "    cp <- c()\n",
    "    i <- N + 1\n",
    "    while(i!=0){\n",
    "        cp <- c(cp, i)\n",
    "        i = (if(i == 1) 0 else last[i - 1])\n",
    "    }\n",
    "\n",
    "    y <- c()\n",
    "    for (j in cp[length(cp):-1:1]){\n",
    "        y <- c(y, edges[j])\n",
    "    }\n",
    "\n",
    "   \n",
    "    \n",
    "}"
   ]
  },
  {
   "cell_type": "code",
   "execution_count": null,
   "id": "af705faa",
   "metadata": {},
   "outputs": [],
   "source": [
    "BB(data)"
   ]
  },
  {
   "cell_type": "code",
   "execution_count": null,
   "id": "77339dc5",
   "metadata": {},
   "outputs": [],
   "source": [
    "\n"
   ]
  }
 ],
 "metadata": {
  "kernelspec": {
   "display_name": "R",
   "language": "R",
   "name": "ir"
  },
  "language_info": {
   "codemirror_mode": "r",
   "file_extension": ".r",
   "mimetype": "text/x-r-source",
   "name": "R",
   "pygments_lexer": "r",
   "version": "3.6.1"
  }
 },
 "nbformat": 4,
 "nbformat_minor": 5
}
