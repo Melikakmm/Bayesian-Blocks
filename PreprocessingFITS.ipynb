{
 "cells": [
  {
   "cell_type": "code",
   "execution_count": 1,
   "id": "789fae3f",
   "metadata": {
    "scrolled": false
   },
   "outputs": [],
   "source": [
    "import numpy as np\n",
    "import pandas as pd\n",
    "from astropy.visualization import astropy_mpl_style\n",
    "from astropy.utils.data import get_pkg_data_filename\n",
    "from astropy.io import fits\n",
    "from astropy.table import Table\n",
    "from astropy import visualization as av\n",
    "from astropy.wcs import WCS\n",
    "from astropy.coordinates import SkyCoord\n",
    "from astropy import units as u\n",
    "from matplotlib import pyplot as plt\n",
    "from astropy.time import Time, TimeDelta\n",
    "from astroquery.jplhorizons import Horizons\n",
    "from matplotlib import pyplot as plt\n",
    "from photutils.aperture import CircularAperture, aperture_photometry\n",
    "\n",
    "from tools import km_to_pixels\n"
   ]
  },
  {
   "cell_type": "code",
   "execution_count": 2,
   "id": "c200e1db",
   "metadata": {},
   "outputs": [],
   "source": [
    "DF = pd.read_csv('ZPLog.csv')\n",
    "GEOMETRY = np.load('geometry', allow_pickle=True)\n",
    "\n",
    "\n",
    "class CometObs:\n",
    "    def __init__(self, band, mmdd):\n",
    "        self.band = band\n",
    "        self.mmdd = mmdd\n",
    "        self.flux = None\n",
    "        self.zp = None\n",
    "        self.zp_err = None\n",
    "\n",
    "    def get_zeropoint(self):\n",
    "        self.zp = DF[DF['MMDD'] == self.mmdd][DF['Filt'] == self.band]['ZPm']\n",
    "        self.zp_err = DF[DF['MMDD'] == self.mmdd][DF['Filt'] == self.band]['ZPsigm']\n",
    "        return float(self.zp), float(self.zp_err)\n",
    "\n",
    "    def get_flux_from_comove(self, fits_image, comove_shift=[300, 300], sky_dim=50, ss_dim=200,\n",
    "                             aperture='total', delta=None):\n",
    "        \"\"\"\n",
    "        :param fits_image: the path to the fits image\n",
    "        :param comove_shift: a correction needed due to the comoving (RA and DEC do not match the actual position of the\n",
    "        object in the comoving image)\n",
    "        :param sky_dim: the size in pixel for the sky snapshot from which is extracted the median sky value\n",
    "        :param ss_dim: the comet snapshot size\n",
    "        :param aperture: aperture radius, 'total' if total flux is needed\n",
    "        :param delta: distance from the observer to the object\n",
    "        :return: the flux of the comet, after subtracting the median sky value\n",
    "        \"\"\"\n",
    "        # print(fits_image)\n",
    "        hdul = fits.open(fits_image)\n",
    "        hdr = hdul[0].header\n",
    "        w = WCS(hdul[0].header)\n",
    "        c = SkyCoord(f\"{hdr['RA']} {hdr['DEC']}\", frame='icrs', unit=(u.hourangle, u.deg))  # 2I initial position coords\n",
    "        x, y = w.world_to_pixel(c)\n",
    "        # sometimes, comoving image is cropped and x or y can have negative values,\n",
    "        # so in order to avoid errors we set x or y to 0:\n",
    "        if x < 0:\n",
    "            x = 0\n",
    "        if y < 0:\n",
    "            y = 0\n",
    "        # print(x, y)\n",
    "        # print(np.max(hdul[0].data))\n",
    "\n",
    "        # take a snapshot of the comet:\n",
    "        if ss_dim > 0:\n",
    "            shot = hdul[0].data[int(y):int(y) + ss_dim, int(x):int(x) + ss_dim]\n",
    "        else:\n",
    "            shot = hdul[0].data[int(y) + ss_dim:int(y), int(x) + ss_dim:int(x)]\n",
    "        expanded_dim = 1000\n",
    "        expanded = np.zeros([expanded_dim, expanded_dim], dtype=np.int32)\n",
    "        expanded[int((expanded_dim - ss_dim)/2):int((expanded_dim + ss_dim)/2),int((expanded_dim - ss_dim)/2):int((expanded_dim + ss_dim)/2)] = shot\n",
    "        shot = expanded\n",
    "#         fig, (ax1, ax2) = plt.subplots(nrows=1, ncols=2, figsize=(8, 5))\n",
    "#         ax1.imshow(shot)\n",
    "#         ax2.imshow(hdul[0].data)\n",
    "#         plt.show()\n",
    "\n",
    "        # find the position of the maximum intensity pixel:\n",
    "        args = np.unravel_index(np.argmax(shot), shot.shape)\n",
    "\n",
    "        # get a sky area to compute sky median value:\n",
    "        if ss_dim > 0:\n",
    "            sky = shot[args[0] + comove_shift[1]: args[0] + comove_shift[1] + sky_dim,\n",
    "                  args[1] + comove_shift[1]: args[1] + comove_shift[1] + sky_dim]\n",
    "        else:\n",
    "            sky = shot[args[0] - comove_shift[0] - sky_dim: args[0] - comove_shift[0],\n",
    "                  args[1] - comove_shift[0] - sky_dim: args[1] - comove_shift[0]]\n",
    "        # print('sky median = ', np.median(sky))\n",
    "        # print('sky std = ', np.std(sky))\n",
    "\n",
    "        # subtract sky median value from the comet image:\n",
    "        shot = shot - np.median(sky)\n",
    "\n",
    "        # extract comet profile:\n",
    "        profile = shot[args[0] - comove_shift[0]: args[0] + comove_shift[1],\n",
    "                       args[1] - comove_shift[0]: args[1] + comove_shift[1]]\n",
    "\n",
    "#         fig, (ax1, ax2) = plt.subplots(nrows=1, ncols=2, figsize=(8, 5))\n",
    "#         ax1.imshow(profile)\n",
    "#         ax1.plot(comove_shift[0], len(profile) - comove_shift[1], 'ro')\n",
    "#         ax2.imshow(sky)\n",
    "#         plt.show()\n",
    "\n",
    "        if aperture == 'total':\n",
    "            self.flux = np.sum(profile)\n",
    "        elif delta is not None:\n",
    "            aperture_pixels = km_to_pixels(aperture, delta)\n",
    "            aperture = CircularAperture([comove_shift[0], len(profile) - comove_shift[1]], aperture_pixels)\n",
    "            self.flux = round(float(aperture_photometry(profile, aperture, method='subpixel')[\"aperture_sum\"]), 4)\n",
    "\n",
    "        return self.flux"
   ]
  },
  {
   "cell_type": "code",
   "execution_count": 4,
   "id": "c22dc599",
   "metadata": {
    "scrolled": false
   },
   "outputs": [
    {
     "name": "stdout",
     "output_type": "stream",
     "text": [
      "1002\n"
     ]
    },
    {
     "data": {
      "image/png": "[encoded data removed]",
      "text/plain": [
       "<Figure size 432x288 with 1 Axes>"
      ]
     },
     "metadata": {
      "needs_background": "light"
     },
     "output_type": "display_data"
    },
    {
     "name": "stdout",
     "output_type": "stream",
     "text": [
      "1003\n"
     ]
    },
    {
     "data": {
      "image/png": "[encoded data removed]",
      "text/plain": [
       "<Figure size 432x288 with 1 Axes>"
      ]
     },
     "metadata": {
      "needs_background": "light"
     },
     "output_type": "display_data"
    },
    {
     "name": "stdout",
     "output_type": "stream",
     "text": [
      "1004\n"
     ]
    },
    {
     "data": {
      "image/png": "[encoded data removed]",
      "text/plain": [
       "<Figure size 432x288 with 1 Axes>"
      ]
     },
     "metadata": {
      "needs_background": "light"
     },
     "output_type": "display_data"
    },
    {
     "name": "stdout",
     "output_type": "stream",
     "text": [
      "1006\n"
     ]
    },
    {
     "data": {
      "image/png": "[encoded data removed]",
      "text/plain": [
       "<Figure size 432x288 with 1 Axes>"
      ]
     },
     "metadata": {
      "needs_background": "light"
     },
     "output_type": "display_data"
    },
    {
     "name": "stdout",
     "output_type": "stream",
     "text": [
      "1011\n"
     ]
    },
    {
     "data": {
      "image/png": "[encoded data removed]",
      "text/plain": [
       "<Figure size 432x288 with 1 Axes>"
      ]
     },
     "metadata": {
      "needs_background": "light"
     },
     "output_type": "display_data"
    },
    {
     "name": "stdout",
     "output_type": "stream",
     "text": [
      "1012\n"
     ]
    },
    {
     "data": {
      "image/png": "[encoded data removed]",
      "text/plain": [
       "<Figure size 432x288 with 1 Axes>"
      ]
     },
     "metadata": {
      "needs_background": "light"
     },
     "output_type": "display_data"
    },
    {
     "name": "stdout",
     "output_type": "stream",
     "text": [
      "1014\n"
     ]
    },
    {
     "data": {
      "image/png": "[encoded data removed]",
      "text/plain": [
       "<Figure size 432x288 with 1 Axes>"
      ]
     },
     "metadata": {
      "needs_background": "light"
     },
     "output_type": "display_data"
    },
    {
     "name": "stdout",
     "output_type": "stream",
     "text": [
      "1018\n"
     ]
    },
    {
     "data": {
      "image/png": "[encoded data removed]",
      "text/plain": [
       "<Figure size 432x288 with 1 Axes>"
      ]
     },
     "metadata": {
      "needs_background": "light"
     },
     "output_type": "display_data"
    },
    {
     "name": "stdout",
     "output_type": "stream",
     "text": [
      "1019\n"
     ]
    },
    {
     "data": {
      "image/png": "[encoded data removed]",
      "text/plain": [
       "<Figure size 432x288 with 1 Axes>"
      ]
     },
     "metadata": {
      "needs_background": "light"
     },
     "output_type": "display_data"
    }
   ],
   "source": [
    "obs_dict = DF[['MMDD', 'Filt', 'JDm', 'ZPm', 'ZPsigm']]\n",
    "delta = []\n",
    "for obs in list(obs_dict.iterrows())[:40]:\n",
    "    obs = obs[1]\n",
    "    if obs[\"Filt\"] != 'r':\n",
    "        continue\n",
    "    fits_path = f'out/{obs[\"MMDD\"]}_{obs[\"Filt\"]}/out_med/Med{obs[\"MMDD\"]}comove.fits'\n",
    "    obs_obj = CometObs(band=obs[\"Filt\"], mmdd=obs[\"MMDD\"])\n",
    "    print(obs[\"MMDD\"])\n",
    "    comove_shift = [20, 50]\n",
    "    ss_dim = 200\n",
    "    # correction for some special cases:\n",
    "    if obs[\"MMDD\"] == 1212:\n",
    "        comove_shift = [10, 60]\n",
    "    if obs[\"MMDD\"] == 1209 and obs[\"Filt\"] == 'r':\n",
    "        comove_shift = [10, 60]\n",
    "    if obs[\"MMDD\"] == 1018:\n",
    "        ss_dim = -225\n",
    "        comove_shift = [30, 40]\n",
    "\n",
    "    # ephemerides\n",
    "    tstart = Time(obs['JDm'], format='jd')\n",
    "    tend = tstart + TimeDelta('60', format='sec')\n",
    "\n",
    "    # https://astroquery.readthedocs.io/en/latest/api/astroquery.jplhorizons.HorizonsClass.html#astroquery\n",
    "    jpl_ephem = Horizons(id='2I', location='954',\n",
    "                        id_type=\"smallbody\",\n",
    "                        epochs={\"start\": str(tstart.iso),\n",
    "                                \"stop\": str(tend.iso),\n",
    "                                \"step\": \"1m\"}\n",
    "                        ).ephemerides().to_pandas()\n",
    "    delta.append(str('{:.7f}'.format(jpl_ephem['delta'][0])))\n",
    "    \n",
    "    edges = list(range(100, 210000, 200))\n",
    "    width = 0.85*(edges[1] - edges[0])\n",
    "    left_edges = edges[:-1]\n",
    "    flux_arr = [obs_obj.get_flux_from_comove(fits_path, ss_dim=300, aperture=ap, delta = float(delta[-1])) for ap in edges]\n",
    "    heights = np.array([flux_arr[j+1] - flux_arr[j] for j in range(len(flux_arr)-1)])\n",
    "    heights[heights<0]=0\n",
    "    plt.bar(left_edges, heights, align='edge', width=width)\n",
    "    plt.show()\n",
    "    f = open(f\"{obs['MMDD']}_{obs['Filt']}_hist\", 'w')\n",
    "    for j in range(len(left_edges)):\n",
    "        f.write(f\"{left_edges[j]} {heights[j]}\\n\")\n",
    "    f.close()\n",
    "\n",
    "#fits_image = FitsImage(f'./out/{date}/{band}_comoving.fits')\n",
    "#plt.style.use(astropy_mpl_style)\n",
    "# image_file = get_pkg_data_filename(path)\n",
    "# fits.info(image_file)\n"
   ]
  },
  {
   "cell_type": "code",
   "execution_count": null,
   "id": "70693a7e",
   "metadata": {},
   "outputs": [],
   "source": []
  }
 ],
 "metadata": {
  "kernelspec": {
   "display_name": "Python 3 (ipykernel)",
   "language": "python",
   "name": "python3"
  },
  "language_info": {
   "codemirror_mode": {
    "name": "ipython",
    "version": 3
   },
   "file_extension": ".py",
   "mimetype": "text/x-python",
   "name": "python",
   "nbconvert_exporter": "python",
   "pygments_lexer": "ipython3",
   "version": "3.10.4"
  }
 },
 "nbformat": 4,
 "nbformat_minor": 5
}
